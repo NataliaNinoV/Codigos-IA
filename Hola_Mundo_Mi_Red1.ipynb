{
  "nbformat": 4,
  "nbformat_minor": 0,
  "metadata": {
    "colab": {
      "provenance": [],
      "authorship_tag": "ABX9TyNUx89265qUvBhhLVgpPu+G",
      "include_colab_link": true
    },
    "kernelspec": {
      "name": "python3",
      "display_name": "Python 3"
    },
    "language_info": {
      "name": "python"
    }
  },
  "cells": [
    {
      "cell_type": "markdown",
      "metadata": {
        "id": "view-in-github",
        "colab_type": "text"
      },
      "source": [
        "<a href=\"https://colab.research.google.com/github/NataliaNinoV/Codigos-IA/blob/main/Hola_Mundo_Mi_Red1.ipynb\" target=\"_parent\"><img src=\"https://colab.research.google.com/assets/colab-badge.svg\" alt=\"Open In Colab\"/></a>"
      ]
    },
    {
      "cell_type": "code",
      "source": [
        "import tensorflow as tf\n",
        "import numpy as np"
      ],
      "metadata": {
        "id": "u3vrBBazMFde"
      },
      "execution_count": null,
      "outputs": []
    },
    {
      "cell_type": "code",
      "source": [
        "celcius = np.array([-40, -10, 0 , 8, 15, 22, 38], dtype = float)\n",
        "fahrenheit = np.array([-40, 14, 32, 46, 59, 72, 100], dtype = float)"
      ],
      "metadata": {
        "id": "cB6pdgKEMWjd"
      },
      "execution_count": null,
      "outputs": []
    },
    {
      "cell_type": "code",
      "source": [
        "#keras\n",
        "#densa-> 1neurona con conexiones hasta todas las neuronas de las siguientes capas\n",
        "#                              N° de neuronas de la capa      Entrada con 1 neurona\n",
        "##capa = tf.keras.layers.Dense(             units=1      ,        input_shape = [1]        )\n",
        "##Modelo secuencial\n",
        "##modelo = tf.keras.Sequential([capa])\n",
        "\n",
        "\n",
        "capa_oculta1 = tf.keras.layers.Dense(units=3,input_shape = [1])\n",
        "capa_oculta2 = tf.keras.layers.Dense(units=3) #aqui sin entradas por ser la segunda etapa\n",
        "salida = tf.keras.layers.Dense(units=1) #1 salida\n",
        "\n",
        "modelo = tf.keras.Sequential([capa_oculta1,capa_oculta2,salida])\n",
        "\n",
        "\n"
      ],
      "metadata": {
        "id": "VuWE7v2gNgE8"
      },
      "execution_count": null,
      "outputs": []
    },
    {
      "cell_type": "code",
      "source": [
        "# Como quiero que procese las matematicas\n",
        "\n",
        "#optimizador=ajustar los cesgos de manera eficiente\n",
        "#tasa de aprendizaje = que tanto ajustar los pesos y sesgos\n",
        "#muy grande->muy rapido y puede ser menos fino\n",
        "#muy pequeña-> ajusta muy lentamente los cambios\n",
        "modelo.compile(\n",
        "    optimizer = tf.keras.optimizers.Adam(0.1),\n",
        "\n",
        "    #Funcion de perdida\n",
        "    loss = 'mean_squared_error' #\"una poca cantidad de errores grandes es peor que una gran cantidad de errores pequeños \"\n",
        "\n",
        "    )"
      ],
      "metadata": {
        "id": "IthMdjVN4xrZ"
      },
      "execution_count": null,
      "outputs": []
    },
    {
      "cell_type": "code",
      "source": [
        "print(\"Comenzando el entrenamiento\")\n",
        "# datos de entrada   resultados esperados   cuantas vueltas quiero que lo intente      No me imprima nada\n",
        "historial = modelo.fit(celcius,fahrenheit,  epochs=1000 , verbose=False)\n",
        "print(\"Modelo Entrenado\")"
      ],
      "metadata": {
        "colab": {
          "base_uri": "https://localhost:8080/"
        },
        "id": "IfEfLslQ9Equ",
        "outputId": "40b52c47-3a18-4c8f-f9e6-9563e1f75fc5"
      },
      "execution_count": null,
      "outputs": [
        {
          "output_type": "stream",
          "name": "stdout",
          "text": [
            "Comenzando el entrenamiento\n",
            "Modelo Entrenado\n"
          ]
        }
      ]
    },
    {
      "cell_type": "code",
      "source": [
        "# Grafiquemos el error\n",
        "import matplotlib.pyplot as plt\n",
        "plt.xlabel(\"# Epoca\")\n",
        "plt.ylabel(\"Magnitud de perdida\")\n",
        "plt.plot(historial.history[\"loss\"])"
      ],
      "metadata": {
        "colab": {
          "base_uri": "https://localhost:8080/",
          "height": 466
        },
        "id": "iuhLhY8aGzFG",
        "outputId": "640ccca7-759a-450c-d760-af82d29b41ee"
      },
      "execution_count": null,
      "outputs": [
        {
          "output_type": "execute_result",
          "data": {
            "text/plain": [
              "[<matplotlib.lines.Line2D at 0x7f82280acdf0>]"
            ]
          },
          "metadata": {},
          "execution_count": 7
        },
        {
          "output_type": "display_data",
          "data": {
            "text/plain": [
              "<Figure size 640x480 with 1 Axes>"
            ],
            "image/png": "[encoded data removed]"
          },
          "metadata": {}
        }
      ]
    },
    {
      "cell_type": "code",
      "source": [
        "#Podrá decirnos el resultado de celsius a farenhig\n",
        "print(\"Predicción\")\n",
        "resultado = modelo.predict([100])\n",
        "print(\"Rta:\" + str(resultado))\n"
      ],
      "metadata": {
        "colab": {
          "base_uri": "https://localhost:8080/"
        },
        "id": "24kMXTIiINdh",
        "outputId": "34a4b634-f767-4d15-bb74-83c96ded107e"
      },
      "execution_count": null,
      "outputs": [
        {
          "output_type": "stream",
          "name": "stdout",
          "text": [
            "Predicción\n",
            "1/1 [==============================] - 0s 40ms/step\n",
            "Rta:[[211.74744]]\n"
          ]
        }
      ]
    },
    {
      "cell_type": "code",
      "source": [
        "#print(\"Variables internas del modelo\")\n",
        "#print(capa.get_weights()) # pesos"
      ],
      "metadata": {
        "id": "qmJihuVBRPt_"
      },
      "execution_count": null,
      "outputs": []
    },
    {
      "cell_type": "code",
      "source": [
        "#   peso                                   sesgo\n",
        "\n",
        "#Variable de entrada 100\n",
        "#      100 * 1.79821  + 31.9211  = 211.74\n",
        "#   Entrada * peso  +  sesgo = salida\n"
      ],
      "metadata": {
        "id": "LzXFKyjlRUUV"
      },
      "execution_count": null,
      "outputs": []
    }
  ]
}